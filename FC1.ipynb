{
 "cells": [
  {
   "cell_type": "code",
   "execution_count": 1,
   "metadata": {},
   "outputs": [],
   "source": [
    "import numpy as np\n",
    "import pandas as pd\n",
    "from sklearn.preprocessing import StandardScaler"
   ]
  },
  {
   "cell_type": "code",
   "execution_count": 2,
   "metadata": {},
   "outputs": [],
   "source": [
    "df_train = pd.read_csv('./train.csv')\n",
    "df_test  = pd.read_csv('./test.csv')\n",
    "df_sub   = pd.read_csv('./gender_submission.csv')"
   ]
  },
  {
   "cell_type": "code",
   "execution_count": 3,
   "metadata": {},
   "outputs": [],
   "source": [
    "df_train.drop(['Name','Ticket','Cabin'],axis = 1,inplace=True)\n",
    "df_test.drop(['Name','Ticket','Cabin'],axis = 1,inplace=True)\n",
    "\n",
    "sex = pd.get_dummies(df_train['Sex'])\n",
    "embark = pd.get_dummies(df_train['Embarked'])\n",
    "df_train = pd.concat([df_train,sex,embark],axis = 1)\n",
    "df_train.drop(['Sex','Embarked'],axis=1,inplace=True)\n",
    "\n",
    "sex = pd.get_dummies(df_test['Sex'])\n",
    "embark = pd.get_dummies(df_test['Embarked'])\n",
    "df_test = pd.concat([df_test,sex,embark],axis=1)\n",
    "df_test.drop(['Sex','Embarked'],axis=1,inplace=True)\n",
    "\n",
    "df_train.fillna(df_train.mean(),inplace=True)\n",
    "df_test.fillna(df_test.mean(),inplace=True)\n",
    "\n",
    "train_columns = df_train.columns\n",
    "test_columns  = df_test.columns"
   ]
  },
  {
   "cell_type": "code",
   "execution_count": 4,
   "metadata": {},
   "outputs": [],
   "source": [
    "Scaler1 = StandardScaler()\n",
    "df_train = pd.DataFrame(Scaler1.fit_transform(df_train))\n",
    "df_test  = pd.DataFrame(Scaler1.fit_transform(df_test))\n",
    "df_train.columns = train_columns\n",
    "df_test.columns  = test_columns"
   ]
  },
  {
   "cell_type": "code",
   "execution_count": 5,
   "metadata": {},
   "outputs": [],
   "source": [
    "X_train = df_train.iloc[:,2:].values\n",
    "y_train = df_train.loc[:, 'Survived'].values\n",
    "x_test = df_test.iloc[:,1:]"
   ]
  },
  {
   "cell_type": "code",
   "execution_count": 6,
   "metadata": {},
   "outputs": [],
   "source": [
    "import torch\n",
    "import torch.nn as nn\n",
    "from torch.nn import functional as F\n",
    "from torch.autograd import Variable\n",
    "from sklearn.model_selection import train_test_split\n",
    "train_x, val_x, train_y, val_y = train_test_split(X_train, y_train, test_size = 0.2) "
   ]
  },
  {
   "cell_type": "code",
   "execution_count": 7,
   "metadata": {},
   "outputs": [],
   "source": [
    "trainTorch_x = torch.from_numpy(train_x).type(torch.FloatTensor)\n",
    "trainTorch_y = torch.from_numpy(train_y).type(torch.LongTensor)\n",
    "\n",
    "\n",
    "valTorch_x = torch.from_numpy(val_x).type(torch.FloatTensor)\n",
    "valTorch_y = torch.from_numpy(val_y).type(torch.LongTensor) \n",
    "\n",
    "testTorch_x = torch.from_numpy(np.array(x_test)).type(torch.FloatTensor)"
   ]
  },
  {
   "cell_type": "code",
   "execution_count": 8,
   "metadata": {},
   "outputs": [],
   "source": [
    "class Net(nn.Module):\n",
    "    def __init__(self):\n",
    "        super(Net,self).__init__()\n",
    "        self.fc1 = nn.Linear(10,128)\n",
    "        self.fc2 = nn.Linear(128,1024)\n",
    "        self.fc3 = nn.Linear(1024,512)\n",
    "        self.fc4 = nn.Linear(512,128)\n",
    "        self.fc5 = nn.Linear(128,2)\n",
    "        self.dropout = nn.Dropout(0.2)\n",
    "        \n",
    "    def forward(self,x):\n",
    "        x = F.relu(self.fc1(x)) \n",
    "        x = self.dropout(self.fc2(x))\n",
    "        x = F.relu(self.fc3(x))\n",
    "        x = self.dropout(self.fc4(x))\n",
    "        x = self.fc5(x)\n",
    "        return x\n",
    "model = Net()"
   ]
  },
  {
   "cell_type": "code",
   "execution_count": 9,
   "metadata": {},
   "outputs": [],
   "source": [
    "model = Net()\n",
    "criterion = torch.nn.CrossEntropyLoss()\n",
    "optimizer = torch.optim.SGD(model.parameters(),lr = 0.01,momentum=0.5)"
   ]
  },
  {
   "cell_type": "code",
   "execution_count": 10,
   "metadata": {},
   "outputs": [],
   "source": [
    "from torch.utils.data import Dataset\n",
    "from torch.utils.data import DataLoader\n",
    "from torchvision import transforms\n",
    "import torch.optim as optim"
   ]
  },
  {
   "cell_type": "code",
   "execution_count": 11,
   "metadata": {},
   "outputs": [],
   "source": [
    "train = torch.utils.data.TensorDataset(trainTorch_x, trainTorch_y)\n",
    "val = torch.utils.data.TensorDataset(valTorch_x, valTorch_y)\n",
    "test = torch.utils.data.TensorDataset(testTorch_x)\n",
    "train_loader = DataLoader(train, batch_size = 60, shuffle = True)\n",
    "val_loader = DataLoader(val, batch_size = 60, shuffle = True)\n",
    "test_loader = DataLoader(test, batch_size = 60, shuffle = True)"
   ]
  },
  {
   "cell_type": "code",
   "execution_count": 12,
   "metadata": {},
   "outputs": [],
   "source": [
    "# 将单轮循环封装为一个函数\n",
    "\n",
    "def train_func(epoch):\n",
    "    running_loss = 0.0\n",
    "    for batch_idx,data in enumerate(train_loader,0):\n",
    "        inputs,target = data\n",
    "        optimizer.zero_grad()\n",
    "        \n",
    "        \n",
    "#         forward and backward and update\n",
    "        outputs = model(inputs)\n",
    "        loss = criterion(outputs, target)\n",
    "        loss.backward()\n",
    "        optimizer.step()\n",
    "        \n",
    "        running_loss += loss.item()\n",
    "        if batch_idx % 180 == 179:\n",
    "            print('[%d,%5d] loss: %.3f' % (epoch + 1,batch_idx + 1,running_loss / 180))\n",
    "            running_loss =0.0\n",
    "            "
   ]
  },
  {
   "cell_type": "code",
   "execution_count": 13,
   "metadata": {},
   "outputs": [],
   "source": [
    "def test_func():\n",
    "    correct = 0\n",
    "    total = 0\n",
    "    with torch.no_grad():\n",
    "#         执行之后在下面代码就不会执行梯度\n",
    "        for data in val_loader:\n",
    "            infor,labels = data\n",
    "#             拿数据\n",
    "            outputs = model(infor)\n",
    "            _, predicted = torch.max(outputs.data,dim = 1)\n",
    "#           返回 最大值 和 每一行的最大值下标\n",
    "#           指定沿着维度1（往下 行是第0个维度，向右 列是第一个维度）\n",
    "            total += labels.size(0)\n",
    "#             label是一个N 1元组 size 取 0 就是？\n",
    "\n",
    "            correct += (predicted == labels).sum().item()\n",
    "    print('Accuracy on test set: %d %%' % (100 * correct / total))"
   ]
  },
  {
   "cell_type": "code",
   "execution_count": 19,
   "metadata": {},
   "outputs": [],
   "source": [
    "def predict_func():\n",
    "    with torch.no_grad():\n",
    "        outputs = model(testTorch_x)\n",
    "        index, predicted = torch.max(outputs.data,dim = 1)\n",
    "    ans2 = predicted\n",
    "    submission_file2 = pd.read_csv('./gender_submission.csv')\n",
    "    submission_file2.Survived = ans2\n",
    "#     print(ans2.shape)\n",
    "    submission_file2.to_csv('submission_nn3.csv', index=False)\n",
    "    print(\"saved\")"
   ]
  },
  {
   "cell_type": "code",
   "execution_count": 244,
   "metadata": {
    "scrolled": true
   },
   "outputs": [
    {
     "name": "stdout",
     "output_type": "stream",
     "text": [
      "Accuracy on test set: 83 %\n",
      "saved\n"
     ]
    }
   ],
   "source": [
    "if __name__ == '__main__':\n",
    "    for epoch in range(1):\n",
    "\n",
    "        train_func(epoch)\n",
    "        test_func()\n",
    "    predict_func()"
   ]
  },
  {
   "cell_type": "code",
   "execution_count": 245,
   "metadata": {},
   "outputs": [
    {
     "data": {
      "text/plain": [
       "<enumerate at 0x184ca109228>"
      ]
     },
     "execution_count": 245,
     "metadata": {},
     "output_type": "execute_result"
    }
   ],
   "source": [
    "enumerate(train_loader,0)"
   ]
  },
  {
   "cell_type": "code",
   "execution_count": null,
   "metadata": {},
   "outputs": [],
   "source": []
  }
 ],
 "metadata": {
  "kernelspec": {
   "display_name": "Python 3",
   "language": "python",
   "name": "python3"
  },
  "language_info": {
   "codemirror_mode": {
    "name": "ipython",
    "version": 3
   },
   "file_extension": ".py",
   "mimetype": "text/x-python",
   "name": "python",
   "nbconvert_exporter": "python",
   "pygments_lexer": "ipython3",
   "version": "3.7.6"
  }
 },
 "nbformat": 4,
 "nbformat_minor": 4
}
